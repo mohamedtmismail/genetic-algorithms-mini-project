{
 "cells": [
  {
   "cell_type": "markdown",
   "metadata": {},
   "source": [
    "# Genetic Algorithms Example"
   ]
  },
  {
   "cell_type": "code",
   "execution_count": 1,
   "metadata": {},
   "outputs": [],
   "source": [
    "import time\n",
    "from functools import partial\n",
    "from collections import namedtuple\n",
    "from random import choices, randint, randrange, random\n",
    "from typing import List, Callable, Tuple"
   ]
  },
  {
   "cell_type": "code",
   "execution_count": 2,
   "metadata": {},
   "outputs": [],
   "source": [
    "Genome = List[int]\n",
    "Population = List[Genome]\n",
    "FitnessFunc = Callable[[Genome], int]\n",
    "PopulateFunc = Callable[[], Population]\n",
    "SelectionFunc = Callable[[Population, FitnessFunc], Tuple[Genome, Genome]]\n",
    "CrossoverFunc = Callable[[Genome, Genome], Tuple[Genome, Genome]]\n",
    "MutationFunc = Callable[[Genome], Genome]\n",
    "Thing = namedtuple('Thing', ['name', 'value', 'weight'])"
   ]
  },
  {
   "cell_type": "code",
   "execution_count": 3,
   "metadata": {},
   "outputs": [],
   "source": [
    "things = [\n",
    "    Thing('Laptop', 500, 2200),\n",
    "    Thing('Headphones', 150, 160),\n",
    "    Thing('Coffe MUg', 60, 350),\n",
    "    Thing('Laptop', 40, 333),\n",
    "    Thing('Laptop', 30, 192)\n",
    "]\n",
    "\n",
    "more_things = [\n",
    "    Thing('Mints', 5, 25),\n",
    "    Thing('Socks', 10, 38),\n",
    "    Thing('Tissues', 15, 80),\n",
    "    Thing('Phone', 500, 200),\n",
    "    Thing('Baseball Cap', 100, 70)\n",
    "] + things"
   ]
  },
  {
   "cell_type": "code",
   "execution_count": 4,
   "metadata": {},
   "outputs": [],
   "source": [
    "def generate_genome(length: int) -> Genome:\n",
    "    return choices([0, 1], k=length)"
   ]
  },
  {
   "cell_type": "code",
   "execution_count": 5,
   "metadata": {},
   "outputs": [],
   "source": [
    "def generate_population(size: int, genome_length: int) -> Population:\n",
    "    return [generate_genome(genome_length) for _ in range(size)]"
   ]
  },
  {
   "cell_type": "code",
   "execution_count": 6,
   "metadata": {},
   "outputs": [],
   "source": [
    "def fitness(genome: Genome, things: [Thing], weight_limit: int) -> int:\n",
    "    if len(genome) != len(things):\n",
    "        raise ValueError(\"genome and things must be of the same length\")\n",
    "\n",
    "    weight = 0\n",
    "    value = 0\n",
    "\n",
    "    for i, thing in enumerate(things):\n",
    "        if genome[i] == 1:\n",
    "            weight += thing.weight\n",
    "            value += thing.value\n",
    "\n",
    "            if weight > weight_limit:\n",
    "                return 0\n",
    "    return value"
   ]
  },
  {
   "cell_type": "code",
   "execution_count": 7,
   "metadata": {},
   "outputs": [],
   "source": [
    "def selection_pair(population: Population, fitness_func: FitnessFunc) -> Population:\n",
    "    return choices(\n",
    "        population=population,\n",
    "        weights=[fitness_func(genome) for genome in population],\n",
    "        k=2\n",
    "    )"
   ]
  },
  {
   "cell_type": "code",
   "execution_count": 8,
   "metadata": {},
   "outputs": [],
   "source": [
    "def single_point_crossover(a: Genome, b: Genome) -> Tuple[Genome, Genome]:\n",
    "    if len(a) != len(b):\n",
    "        raise ValueError(\"Genomes a and b must be of the same length\")\n",
    "\n",
    "    length = len(a)\n",
    "    if length < 2:\n",
    "        return a, b\n",
    "\n",
    "    p = randint(1, length - 1)\n",
    "    return a[0:p] + b[p:], b[0:p] + a[p:]"
   ]
  },
  {
   "cell_type": "code",
   "execution_count": 9,
   "metadata": {},
   "outputs": [],
   "source": [
    "def mutation(genome: Genome, num: int = 1, probability: float = 0.5) -> Genome:\n",
    "    for _ in range(num):\n",
    "        index = randrange(len(genome))\n",
    "        genome[index] = genome[index] if random() > probability else abs(genome[index] - 1)\n",
    "    return genome"
   ]
  },
  {
   "cell_type": "code",
   "execution_count": 10,
   "metadata": {},
   "outputs": [
    {
     "name": "stdout",
     "output_type": "stream",
     "text": [
      "number of generations: 99\n",
      "time:0.011926889419555664s\n",
      "best solution: ['Laptop', 'Headphones', 'Coffe MUg', 'Laptop']\n"
     ]
    }
   ],
   "source": [
    "def run_evolution(\n",
    "    populate_func: PopulateFunc,\n",
    "    fitness_func: FitnessFunc,\n",
    "    fitness_limit: int,\n",
    "    selection_func: SelectionFunc = selection_pair,\n",
    "    crossover_func: CrossoverFunc = single_point_crossover,\n",
    "    mutation_func: MutationFunc = mutation,\n",
    "    generation_limit: int = 100\n",
    ") -> Tuple[Population, int]:\n",
    "    population = populate_func()\n",
    "    \n",
    "    for i in range(generation_limit):\n",
    "        population = sorted(\n",
    "            population,\n",
    "            key=lambda genome: fitness_func(genome),\n",
    "            reverse=True\n",
    "        )\n",
    "        \n",
    "        if fitness_func(population[0]) >= fitness_limit:\n",
    "            break\n",
    "        \n",
    "        next_generation = population[0:2]\n",
    "        \n",
    "        for j in range(int(len(population)/2)-1):\n",
    "            parents = selection_func(population, fitness_func)\n",
    "            offspring_a, offspring_b = crossover_func(parents[0],parents[1])\n",
    "            offspring_a = mutation_func(offspring_a)\n",
    "            offspring_b = mutation_func(offspring_b)\n",
    "            next_generation += [offspring_a, offspring_b]\n",
    "            \n",
    "        population = next_generation\n",
    "    \n",
    "    population = sorted(\n",
    "        population,\n",
    "        key=lambda genome: fitness_func(genome),\n",
    "        reverse=True\n",
    "    )\n",
    "    \n",
    "    return population, i\n",
    "start= time.time()\n",
    "population, generations = run_evolution(\n",
    "    populate_func = partial(\n",
    "        generate_population, size=10, genome_length=len(things)\n",
    "    ),\n",
    "    fitness_func = partial(\n",
    "        fitness, things=things, weight_limit=3000\n",
    "    ),\n",
    "    fitness_limit=748,\n",
    "    generation_limit=100\n",
    ")\n",
    "end = time.time()\n",
    "\n",
    "def genome_to_things(genome: Genome, things: [Thing]) -> [Thing]:\n",
    "    result = []\n",
    "    for i, thing in enumerate(things):\n",
    "        if genome[i] == 1:\n",
    "            result += [thing.name]\n",
    "            \n",
    "    return result\n",
    "\n",
    "\n",
    "print(f\"number of generations: {generations}\")\n",
    "print(f\"time:{end - start}s\")\n",
    "print(f\"best solution: {genome_to_things(population[0], things)}\")\n",
    "    "
   ]
  },
  {
   "cell_type": "code",
   "execution_count": null,
   "metadata": {},
   "outputs": [],
   "source": []
  }
 ],
 "metadata": {
  "kernelspec": {
   "display_name": "Python 3",
   "language": "python",
   "name": "python3"
  },
  "language_info": {
   "codemirror_mode": {
    "name": "ipython",
    "version": 3
   },
   "file_extension": ".py",
   "mimetype": "text/x-python",
   "name": "python",
   "nbconvert_exporter": "python",
   "pygments_lexer": "ipython3",
   "version": "3.8.5"
  }
 },
 "nbformat": 4,
 "nbformat_minor": 4
}
